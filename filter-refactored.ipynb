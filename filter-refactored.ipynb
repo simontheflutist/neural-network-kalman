{
 "cells": [
  {
   "cell_type": "code",
   "execution_count": 1,
   "id": "25d3b8d1-b40b-49c2-a214-dac7deba3a2c",
   "metadata": {},
   "outputs": [],
   "source": [
    "import jax\n",
    "\n",
    "jax.config.update(\"jax_enable_x64\", True)\n",
    "from jax import numpy as jnp\n",
    "import numpy as np\n",
    "import scipy.stats\n",
    "from matplotlib.figure import Figure\n",
    "from tqdm.notebook import trange\n",
    "\n",
    "%matplotlib inline"
   ]
  },
  {
   "cell_type": "code",
   "execution_count": 2,
   "id": "f70ae4ce-1392-4203-92de-445cd30c1c02",
   "metadata": {},
   "outputs": [],
   "source": [
    "import sys\n",
    "import os\n",
    "\n",
    "lib_path = os.path.join(os.path.curdir, 'lib')\n",
    "sys.path.insert(0, lib_path)"
   ]
  },
  {
   "cell_type": "code",
   "execution_count": null,
   "id": "3708e159-d7f3-4019-a424-b3d4d88d11eb",
   "metadata": {},
   "outputs": [],
   "source": [
    "import importlib\n",
    "\n",
    "import probit_network\n",
    "import random_matrix\n",
    "\n",
    "importlib.reload(random_matrix)\n",
    "importlib.reload(probit_network)\n",
    "from probit_network import ProbitLinear, ProbitLinearNetwork\n",
    "from random_matrix import RandomGaussian, RandomOrthogonalProjection, ZeroMatrix"
   ]
  },
  {
   "cell_type": "markdown",
   "id": "6ffaadf0-1c71-4b4b-9dca-23b719303e09",
   "metadata": {},
   "source": [
    "Roadmap\n",
    "- orthogonal initialization\n",
    "- inputs\n",
    "- layer noise\n",
    "- train"
   ]
  },
  {
   "cell_type": "code",
   "execution_count": null,
   "id": "c8338fbf-dcec-4450-b430-a8a74d4f44c7",
   "metadata": {},
   "outputs": [],
   "source": [
    "key = jax.random.PRNGKey(123)"
   ]
  },
  {
   "cell_type": "markdown",
   "id": "335e8704-752e-48f0-ac69-3ebb91d576ec",
   "metadata": {},
   "source": [
    "# single layer test"
   ]
  },
  {
   "cell_type": "code",
   "execution_count": null,
   "id": "9d7513a1-d12d-4617-9121-3874d7c7a5d9",
   "metadata": {},
   "outputs": [],
   "source": [
    "f = ProbitLinear(\n",
    "    3,\n",
    "    1,\n",
    "    key,\n",
    "    A=RandomOrthogonalProjection(4.0),\n",
    "    b=RandomOrthogonalProjection(0.0),\n",
    "    C=RandomOrthogonalProjection(1.0),\n",
    "    d=RandomOrthogonalProjection(1.0),\n",
    ")\n",
    "network = ProbitLinearNetwork(f)"
   ]
  },
  {
   "cell_type": "code",
   "execution_count": null,
   "id": "31ff5648-bdac-4d32-98e4-7cee9a9a9a5a",
   "metadata": {},
   "outputs": [],
   "source": [
    "x = 1 + jnp.zeros(f.in_size)\n",
    "Σ = jnp.eye(x.shape[0]) * 1"
   ]
  },
  {
   "cell_type": "code",
   "execution_count": null,
   "id": "fe4df19f-d23c-42bc-9389-7b8cb25b99fd",
   "metadata": {},
   "outputs": [],
   "source": [
    "mean, cov = f._mc_mean_cov(x, Σ, key, 1_000_000)\n",
    "mean"
   ]
  },
  {
   "cell_type": "code",
   "execution_count": null,
   "id": "084d896c-1805-4596-9fd5-4d263ce5407f",
   "metadata": {},
   "outputs": [],
   "source": [
    "print(\"ekf mean\", f._propagate_mean_lin(x, Σ))\n",
    "print(\"analytic mean\", f._propagate_mean(x, Σ))\n",
    "print(\"monte carlo mean\", mean)"
   ]
  },
  {
   "cell_type": "code",
   "execution_count": null,
   "id": "0fea43d7-a7df-41a6-9e4e-b9fe74b639a3",
   "metadata": {},
   "outputs": [],
   "source": [
    "np.linalg.eigvalsh(f._propagate_cov(x, Σ))"
   ]
  },
  {
   "cell_type": "code",
   "execution_count": null,
   "id": "18049b70-d31b-449c-bc22-d60ea9d4844d",
   "metadata": {},
   "outputs": [],
   "source": [
    "print(\"ekf cov\", f._propagate_cov_lin(x, Σ))\n",
    "print(\"analytic cov\", f._propagate_cov(x, Σ))\n",
    "print(\"monte carlo covariance\", cov)"
   ]
  },
  {
   "cell_type": "markdown",
   "id": "ccd739dc-bb4a-4451-aa57-43455f96f3c1",
   "metadata": {},
   "source": [
    "# Small-variance eigenvalue rectification"
   ]
  },
  {
   "cell_type": "code",
   "execution_count": null,
   "id": "7aa7259c-031c-498b-941c-7183f3f1f91d",
   "metadata": {},
   "outputs": [],
   "source": [
    "key, key1, key2, key3, key4 = jax.random.split(jax.random.PRNGKey(12), 5)\n",
    "input_size = 2\n",
    "output_size = 2\n",
    "hidden_size = 5\n",
    "network = ProbitLinearNetwork(\n",
    "    ProbitLinear(\n",
    "        input_size,\n",
    "        output_size,\n",
    "        key1,\n",
    "        A=RandomOrthogonalProjection(),\n",
    "        b=RandomOrthogonalProjection(),\n",
    "    ),\n",
    ")\n",
    "μ = jnp.zeros(input_size)\n",
    "Σ = jnp.eye(input_size)"
   ]
  },
  {
   "cell_type": "code",
   "execution_count": null,
   "id": "a388082e-f7de-4434-80eb-0d5b3a63acb1",
   "metadata": {},
   "outputs": [],
   "source": [
    "mean, cov = network.propagate_mean_cov(μ, Σ * 1e-2)\n",
    "mean, jnp.linalg.eigvalsh(cov)"
   ]
  },
  {
   "cell_type": "markdown",
   "id": "78ac187b-8540-4cfb-8069-8b3a2e2529a3",
   "metadata": {},
   "source": [
    "# MLP UQ test"
   ]
  },
  {
   "cell_type": "code",
   "execution_count": null,
   "id": "f98f6c01-8cd6-48b7-9265-e69449b7999f",
   "metadata": {},
   "outputs": [],
   "source": [
    "key, key1, key2, key3, key4 = jax.random.split(jax.random.PRNGKey(12), 5)\n",
    "input_size = 2\n",
    "output_size = 1\n",
    "hidden_size = 70\n",
    "layers = [\n",
    "    ProbitLinear(\n",
    "        input_size,\n",
    "        hidden_size,\n",
    "        key1,\n",
    "        A=RandomOrthogonalProjection(4.0),\n",
    "        b=RandomOrthogonalProjection(1.0),\n",
    "        C=RandomOrthogonalProjection(1.0),\n",
    "        d=ZeroMatrix(),\n",
    "    ),\n",
    "    ProbitLinear(\n",
    "        hidden_size,\n",
    "        hidden_size,\n",
    "        key2,\n",
    "        A=RandomOrthogonalProjection(4.0),\n",
    "        b=RandomOrthogonalProjection(1.0),\n",
    "        C=RandomOrthogonalProjection(1.0),\n",
    "        d=ZeroMatrix(),\n",
    "    ),\n",
    "    ProbitLinear(\n",
    "        hidden_size,\n",
    "        hidden_size,\n",
    "        key3,\n",
    "        A=RandomOrthogonalProjection(4.0),\n",
    "        b=RandomOrthogonalProjection(1.0),\n",
    "        C=RandomOrthogonalProjection(1.0),\n",
    "        d=ZeroMatrix(),\n",
    "    ),\n",
    "    ProbitLinear(\n",
    "        hidden_size,\n",
    "        output_size,\n",
    "        key4,\n",
    "        A=RandomOrthogonalProjection(4.0),\n",
    "        b=RandomOrthogonalProjection(1.0),\n",
    "        C=RandomOrthogonalProjection(1.0),\n",
    "        d=ZeroMatrix(),\n",
    "    ),\n",
    "]"
   ]
  },
  {
   "cell_type": "code",
   "execution_count": null,
   "id": "74e3927a-92ca-46f8-8174-c0810b7412e0",
   "metadata": {},
   "outputs": [],
   "source": [
    "μ = jnp.zeros(input_size)\n",
    "Σ = jnp.eye(input_size)"
   ]
  },
  {
   "cell_type": "code",
   "execution_count": null,
   "id": "b278f839-c7d7-47bd-b737-ff6266bef6a4",
   "metadata": {},
   "outputs": [],
   "source": [
    "network = ProbitLinearNetwork(*layers)"
   ]
  },
  {
   "cell_type": "code",
   "execution_count": null,
   "id": "8b491ca3-3fb1-4295-ae1f-f15bf8165e3e",
   "metadata": {},
   "outputs": [],
   "source": [
    "network.propagate_mean_cov(μ, Σ)"
   ]
  },
  {
   "cell_type": "code",
   "execution_count": null,
   "id": "2db42ac7-227b-40f8-8e96-1a7b2321846a",
   "metadata": {},
   "outputs": [],
   "source": [
    "network.propagate_mean_cov_lin(μ, Σ * 1e-3)"
   ]
  },
  {
   "cell_type": "code",
   "execution_count": null,
   "id": "1f3f9fd4-12a1-49f3-bc6a-d6876eb89874",
   "metadata": {},
   "outputs": [],
   "source": [
    "network.propagate_mean_cov(μ, Σ * 1e-3)"
   ]
  },
  {
   "cell_type": "code",
   "execution_count": null,
   "id": "9789b828-9da8-4fcc-8c0d-608081e152ef",
   "metadata": {},
   "outputs": [],
   "source": [
    "def plot_mc(ax, μ, Σ):\n",
    "    μ_unscented, Σ_unscented = network.propagate_mean_cov_unscented(μ, Σ)\n",
    "    μ_lin, Σ_lin = network.propagate_mean_cov_lin(μ, Σ)\n",
    "    μ_adf, Σ_adf = network.propagate_mean_cov(μ, Σ)\n",
    "\n",
    "    input_samples = jax.random.multivariate_normal(\n",
    "        key=key, mean=μ, cov=Σ, shape=100_000\n",
    "    )\n",
    "    output_samples = jax.vmap(network)(input_samples)\n",
    "    y_mesh = np.linspace(np.min(output_samples), np.max(output_samples), 2000)\n",
    "\n",
    "    ax.plot(\n",
    "        y_mesh,\n",
    "        scipy.stats.gaussian_kde(output_samples.reshape(-1))(y_mesh),\n",
    "        label=\"empirical KDE\",\n",
    "    )\n",
    "    ax.plot(\n",
    "        y_mesh,\n",
    "        scipy.stats.norm.pdf(\n",
    "            y_mesh, loc=output_samples.mean(), scale=output_samples.std()\n",
    "        ),\n",
    "        label=\"pseudo-true Gaussian fit\",\n",
    "    )\n",
    "\n",
    "    ax.plot(\n",
    "        y_mesh,\n",
    "        scipy.stats.norm.pdf(\n",
    "            y_mesh, loc=μ_unscented.reshape(-1), scale=Σ_unscented.reshape(-1) ** 0.5\n",
    "        ),\n",
    "        label=\"unscented approximation\",\n",
    "    )\n",
    "\n",
    "    ax.plot(\n",
    "        y_mesh,\n",
    "        scipy.stats.norm.pdf(\n",
    "            y_mesh, loc=μ_lin.reshape(-1), scale=Σ_lin.reshape(-1) ** 0.5\n",
    "        ),\n",
    "        label=\"linear approximation\",\n",
    "        linestyle=\"--\",\n",
    "    )\n",
    "\n",
    "    ax.plot(\n",
    "        y_mesh,\n",
    "        scipy.stats.norm.pdf(\n",
    "            y_mesh, loc=μ_adf.reshape(-1), scale=Σ_adf.reshape(-1) ** 0.5\n",
    "        ),\n",
    "        label=\"my approximation\",\n",
    "        linestyle=\"--\",\n",
    "    )\n",
    "    ax.legend()"
   ]
  },
  {
   "cell_type": "code",
   "execution_count": null,
   "id": "0d6d6797-0502-43c1-a562-732c7f72dc34",
   "metadata": {},
   "outputs": [],
   "source": [
    "fig = Figure(figsize=(8, 8), dpi=600, constrained_layout=1)\n",
    "ax = fig.add_subplot(311)\n",
    "ax.set_title(\"Covariance scale 0.01\")\n",
    "plot_mc(ax, μ, Σ * 1e-2)\n",
    "ax = fig.add_subplot(312)\n",
    "ax.set_title(\"Covariance scale 1\")\n",
    "plot_mc(ax, μ, Σ * 1)\n",
    "ax = fig.add_subplot(313)\n",
    "ax.set_title(\"Covariance scale 100\")\n",
    "plot_mc(ax, μ, Σ * 1e2)\n",
    "\n",
    "fig.savefig(\"figures/deep-mlp.pdf\")\n",
    "fig"
   ]
  },
  {
   "cell_type": "markdown",
   "id": "0c63c034-df57-48a5-b6ab-3f95d026a725",
   "metadata": {},
   "source": [
    "# Kalman filter"
   ]
  },
  {
   "cell_type": "code",
   "execution_count": null,
   "id": "41dbf97e-265e-4fe3-b870-c941ea95937c",
   "metadata": {},
   "outputs": [],
   "source": [
    "import equinox"
   ]
  },
  {
   "cell_type": "code",
   "execution_count": null,
   "id": "9bc9c7f0-5f5b-4dcf-8b6f-e09ddb71765b",
   "metadata": {},
   "outputs": [],
   "source": [
    "@equinox.filter_jit\n",
    "def schur_complement(A, B, C, x, y, method=1):\n",
    "    \"\"\"Returns a numerically stable(ish) attempt at\n",
    "    x + B C^(-1) y,\n",
    "    A - B C^(-1) B^T.\n",
    "    \"\"\"\n",
    "    if method == 1:\n",
    "        # C = U U^T\n",
    "        U = jax.scipy.linalg.cholesky(C)\n",
    "        # B_tilde = B U^-T\n",
    "        B_tilde = jax.scipy.linalg.solve_triangular(U, B.T, trans=1, lower=False).T\n",
    "        return (\n",
    "            x + B_tilde @ jax.scipy.linalg.solve_triangular(U, y, lower=False),\n",
    "            A - B_tilde.dot(B_tilde.T),\n",
    "        )"
   ]
  },
  {
   "cell_type": "markdown",
   "id": "b468bfa3-7ce6-4226-8c8b-77308cae2827",
   "metadata": {},
   "source": [
    "## random MLP ensemble"
   ]
  },
  {
   "cell_type": "code",
   "execution_count": null,
   "id": "c82c83be-0721-411c-b2f3-37dca52ffc15",
   "metadata": {},
   "outputs": [],
   "source": [
    "import numpy as np\n",
    "\n",
    "\n",
    "def ccf(*eigenvalues):\n",
    "    \"\"\"\n",
    "    Generate the controllable canonical form (companion matrix) A\n",
    "    for a system with the given eigenvalues.\n",
    "\n",
    "    Parameters:\n",
    "        *eigenvalues: Variable length argument list of eigenvalues (lambda1, lambda2, ..., lambdan)\n",
    "\n",
    "    Returns:\n",
    "        A: The controllable canonical form matrix (n x n)\n",
    "    \"\"\"\n",
    "    # Ensure input is treated as a flat list\n",
    "    eigenvalues = np.array(eigenvalues)\n",
    "\n",
    "    # Compute the coefficients of the characteristic polynomial\n",
    "    # The polynomial has the form: s^n + a_{n-1}s^{n-1} + ... + a_1 s + a_0\n",
    "    poly_coeffs = np.poly(eigenvalues)  # Gives [1, a_{n-1}, ..., a_0]\n",
    "\n",
    "    # Remove the leading 1 (coefficient of s^n)\n",
    "    a_coeffs = -poly_coeffs[1:]  # Negative signs for canonical form\n",
    "\n",
    "    n = len(a_coeffs)\n",
    "    A = np.zeros((n, n))\n",
    "\n",
    "    # Fill the last row with the negative coefficients\n",
    "    A[-1, :] = a_coeffs[::-1]\n",
    "\n",
    "    # Fill the subdiagonal with 1s\n",
    "    for i in range(n - 1):\n",
    "        A[i, i + 1] = 1\n",
    "\n",
    "    return jnp.array(A)"
   ]
  },
  {
   "cell_type": "code",
   "execution_count": null,
   "id": "26c35127-3e84-45ba-8041-f9989777b285",
   "metadata": {},
   "outputs": [],
   "source": [
    "key, key1, key2, key3, key4 = jax.random.split(jax.random.PRNGKey(21), 5)\n",
    "\n",
    "n_x = 4\n",
    "n_y = 2\n",
    "\n",
    "n_hidden_dynamics = 5\n",
    "n_hidden_output = 500\n",
    "\n",
    "F = ProbitLinearNetwork(\n",
    "    ProbitLinear(\n",
    "        in_size=n_x,\n",
    "        out_size=n_x,\n",
    "        key=key2,\n",
    "        A=ccf(0.99, 0.99, 0.5, -0.3),\n",
    "        b=RandomGaussian(0.0),\n",
    "        C=ZeroMatrix(),\n",
    "        d=ZeroMatrix(),\n",
    "    ),\n",
    ")\n",
    "H = ProbitLinearNetwork(\n",
    "    ProbitLinear.create_probit(\n",
    "        in_size=n_x,\n",
    "        out_size=n_hidden_output,\n",
    "        key=key3,\n",
    "        A=RandomOrthogonalProjection(1e1),\n",
    "        b=RandomOrthogonalProjection(1e1),\n",
    "    ),\n",
    "    ProbitLinear.create_probit(\n",
    "        in_size=n_hidden_output,\n",
    "        out_size=n_y,\n",
    "        key=key4,\n",
    "        A=RandomOrthogonalProjection(1e1),\n",
    "        b=ZeroMatrix(),\n",
    "    ),\n",
    ")\n",
    "H_aug = H.augment_with_identity()"
   ]
  },
  {
   "cell_type": "code",
   "execution_count": null,
   "id": "941496cd-3918-4309-8ddf-da1941528c1e",
   "metadata": {},
   "outputs": [],
   "source": [
    "x = F(np.zeros(n_x))"
   ]
  },
  {
   "cell_type": "code",
   "execution_count": null,
   "id": "d8a5ef22-ea5f-40aa-94a6-cc75cdf13f26",
   "metadata": {},
   "outputs": [],
   "source": [
    "sim_horizon = 200\n",
    "Q = jnp.eye(n_x) * 1e-2\n",
    "R = jnp.eye(n_y) * 1e-2"
   ]
  },
  {
   "cell_type": "code",
   "execution_count": null,
   "id": "62b0751b-1ddf-464d-91bf-4842956896a1",
   "metadata": {},
   "outputs": [],
   "source": [
    "η_key, ϵ_key = jax.random.split(key, 2)"
   ]
  },
  {
   "cell_type": "code",
   "execution_count": null,
   "id": "a92c717f-6306-43d9-9d62-85c663b415fc",
   "metadata": {},
   "outputs": [],
   "source": [
    "η = jax.random.multivariate_normal(\n",
    "    mean=jnp.zeros(n_x), cov=Q, key=η_key, shape=sim_horizon\n",
    ")"
   ]
  },
  {
   "cell_type": "code",
   "execution_count": null,
   "id": "91e25787-3727-4563-a977-424bde742322",
   "metadata": {},
   "outputs": [],
   "source": [
    "ϵ = jax.random.multivariate_normal(\n",
    "    mean=jnp.zeros(n_y), cov=R, key=ϵ_key, shape=sim_horizon\n",
    ")"
   ]
  },
  {
   "cell_type": "code",
   "execution_count": null,
   "id": "f3132cae-46a7-4a25-8286-b507638eead5",
   "metadata": {},
   "outputs": [],
   "source": [
    "x = np.zeros((sim_horizon, n_x))\n",
    "y = np.zeros((sim_horizon, n_y))\n",
    "y_noiseless = np.zeros((sim_horizon, n_y))\n",
    "for i in range(1, sim_horizon):\n",
    "    x[i, :] = F(x[i - 1, :]) + η[i - 1]\n",
    "    y_noiseless[i, :] = H(x[i, :])\n",
    "    y[i, :] = y_noiseless[i, :] + ϵ[i]"
   ]
  },
  {
   "cell_type": "code",
   "execution_count": null,
   "id": "e735c6b1-da01-4b09-83a4-58461b92aade",
   "metadata": {},
   "outputs": [],
   "source": [
    "fig = Figure()\n",
    "ax = fig.add_subplot(211)\n",
    "ax.plot(x[:, 0], label=\"x_0\")\n",
    "ax.legend()\n",
    "ax = fig.add_subplot(212)\n",
    "ax.plot(y[:, 0], label=\"y_1\")\n",
    "ax.plot(y_noiseless[:, 0])\n",
    "ax.legend()\n",
    "fig"
   ]
  },
  {
   "cell_type": "code",
   "execution_count": null,
   "id": "2dfd2d88-931a-444a-b6e4-2ba1d9a609e4",
   "metadata": {},
   "outputs": [],
   "source": [
    "STATES = slice(None, n_x)\n",
    "OUTPUTS = slice(n_x, None)\n",
    "JOINT = slice(None, None)\n",
    "\n",
    "joint_prediction = np.zeros((sim_horizon, n_x + n_y))\n",
    "P_pred = np.zeros((sim_horizon, n_x + n_y, n_x + n_y))\n",
    "P_post = np.zeros((sim_horizon, n_x, n_x))\n",
    "\n",
    "joint_prediction[0, STATES] = 0\n",
    "P_pred[0, STATES, STATES] = Q * 1\n",
    "P_post[0, STATES, STATES] = Q * 1"
   ]
  },
  {
   "cell_type": "code",
   "execution_count": null,
   "id": "6b83379e-837e-49f7-8bcf-9ffb715010ca",
   "metadata": {},
   "outputs": [],
   "source": [
    "def psd_error(A):\n",
    "    return jnp.linalg.norm(A - rectify_eigenvalues(A))"
   ]
  },
  {
   "cell_type": "code",
   "execution_count": null,
   "id": "43e23bb2-d879-4a82-80f6-5000ca036cfb",
   "metadata": {},
   "outputs": [],
   "source": [
    "for i in trange(1, sim_horizon):\n",
    "    # predict x\n",
    "    joint_prediction[i, STATES], P_pred[i, STATES, STATES] = F.propagate_mean_cov(\n",
    "        joint_prediction[i - 1, STATES], P_post[i - 1, STATES, STATES]\n",
    "    )\n",
    "    P_pred[i, STATES, STATES] += Q\n",
    "    # predict y\n",
    "    joint_prediction[i, JOINT], P_pred[i, JOINT, JOINT] = H_aug.propagate_mean_cov(\n",
    "        joint_prediction[i, STATES], P_pred[i, STATES, STATES]\n",
    "    )\n",
    "    P_pred[i, OUTPUTS, OUTPUTS] += R\n",
    "    # correct x\n",
    "    joint_prediction[i, STATES], P_post[i, STATES, STATES] = schur_complement(\n",
    "        P_pred[i, STATES, STATES],\n",
    "        P_pred[i, STATES, OUTPUTS],\n",
    "        P_pred[i, OUTPUTS, OUTPUTS],\n",
    "        joint_prediction[i, STATES],\n",
    "        y[i, :] - joint_prediction[i, OUTPUTS],\n",
    "    )\n",
    "    if np.any(np.isnan(joint_prediction[i])):\n",
    "        print(i)\n",
    "        raise KeyboardInterrupt"
   ]
  },
  {
   "cell_type": "code",
   "execution_count": null,
   "id": "3e63a9fa-2111-4d6d-8d3c-5aded97dc413",
   "metadata": {},
   "outputs": [],
   "source": [
    "x_pred = joint_prediction[:, STATES]\n",
    "x_pred_std = jax.vmap(jnp.diag)(P_pred[:, STATES, STATES]) ** 0.5\n",
    "y_pred = joint_prediction[:, OUTPUTS]\n",
    "y_pred_std = jax.vmap(jnp.diag)(P_pred[:, OUTPUTS, OUTPUTS]) ** 0.5"
   ]
  },
  {
   "cell_type": "code",
   "execution_count": null,
   "id": "7a61c3cd-0aae-40b8-832c-7e8088ced3d8",
   "metadata": {},
   "outputs": [],
   "source": [
    "print(((x - x_pred) ** 2).mean() ** 0.5, np.std(x))"
   ]
  },
  {
   "cell_type": "code",
   "execution_count": null,
   "id": "a1e35f72-62e9-45b1-bcab-fbb4c3a16792",
   "metadata": {},
   "outputs": [],
   "source": [
    "time_slice = slice(1, None)"
   ]
  },
  {
   "cell_type": "code",
   "execution_count": null,
   "id": "2f0ce0f5-9f0a-4053-9f16-1820ec29eae6",
   "metadata": {},
   "outputs": [],
   "source": [
    "fig = Figure(figsize=(8, 4), dpi=100, constrained_layout=1)\n",
    "ax = fig.gca()\n",
    "ax.plot(x[time_slice, 1])\n",
    "ax.fill_between(\n",
    "    np.arange(sim_horizon)[time_slice],\n",
    "    (x_pred[time_slice, 1] - x_pred_std[time_slice, 1]),\n",
    "    (x_pred[time_slice, 1] + x_pred_std[time_slice, 1]),\n",
    "    color=\"C1\",\n",
    "    alpha=0.5,\n",
    ")\n",
    "fig"
   ]
  },
  {
   "cell_type": "code",
   "execution_count": null,
   "id": "0ea001af-9c2f-4437-82c1-4bda4923843c",
   "metadata": {},
   "outputs": [],
   "source": [
    "fig = Figure(figsize=(8, 4), dpi=100, constrained_layout=1)\n",
    "ax = fig.gca()\n",
    "ax.plot(y_noiseless[:, 0])\n",
    "# ax.plot(y_pred[:, 1])\n",
    "ax.fill_between(\n",
    "    np.arange(sim_horizon),\n",
    "    y_pred[:, 0] - y_pred_std[:, 0],\n",
    "    y_pred[:, 0] + y_pred_std[:, 0],\n",
    "    color=\"C1\",\n",
    "    alpha=0.5,\n",
    ")\n",
    "fig"
   ]
  },
  {
   "cell_type": "markdown",
   "id": "414ebbe5-bd0b-48d1-b6aa-d3d9a27420ff",
   "metadata": {},
   "source": [
    "# vibe coded KF"
   ]
  },
  {
   "cell_type": "code",
   "execution_count": null,
   "id": "8cae306a-8288-4710-bad5-8361fbac2bbf",
   "metadata": {},
   "outputs": [],
   "source": []
  },
  {
   "cell_type": "code",
   "execution_count": null,
   "id": "bf40d043-7487-4eb4-9eae-687c35c3ba2b",
   "metadata": {},
   "outputs": [],
   "source": [
    "kf = KalmanFilter(\n",
    "    n_x=n_x, n_y=n_y, F=F, H_aug=H_aug, Q=Q, R=R, x0=5 * np.ones(n_x), P0=Q.copy()\n",
    ")\n",
    "\n",
    "joint_predictions = np.zeros((sim_horizon, n_x + n_y))\n",
    "P_preds = np.zeros((sim_horizon, n_x + n_y, n_x + n_y))\n",
    "P_posts = np.zeros((sim_horizon, n_x, n_x))\n",
    "\n",
    "joint_predictions[0, :n_x] = 5  # initial x0\n",
    "P_preds[0, :n_x, :n_x] = Q\n",
    "P_posts[0] = Q\n",
    "\n",
    "for i in trange(1, sim_horizon):\n",
    "    kf.predict()\n",
    "    kf.update(y[i])\n",
    "\n",
    "    joint_predictions[i], P_preds[i] = kf.get_state()\n",
    "    P_posts[i] = P_preds[i, :n_x, :n_x]"
   ]
  },
  {
   "cell_type": "code",
   "execution_count": null,
   "id": "59c10763-e5a5-4556-ac04-2c0c21ec7e46",
   "metadata": {},
   "outputs": [],
   "source": []
  }
 ],
 "metadata": {
  "kernelspec": {
   "display_name": "Python 3 (ipykernel)",
   "language": "python",
   "name": "python3"
  },
  "language_info": {
   "codemirror_mode": {
    "name": "ipython",
    "version": 3
   },
   "file_extension": ".py",
   "mimetype": "text/x-python",
   "name": "python",
   "nbconvert_exporter": "python",
   "pygments_lexer": "ipython3",
   "version": "3.12.2"
  }
 },
 "nbformat": 4,
 "nbformat_minor": 5
}
