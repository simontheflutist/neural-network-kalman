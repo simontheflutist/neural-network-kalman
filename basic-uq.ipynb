{
 "cells": [
  {
   "cell_type": "code",
   "execution_count": 1,
   "id": "25d3b8d1-b40b-49c2-a214-dac7deba3a2c",
   "metadata": {},
   "outputs": [],
   "source": [
    "import jax\n",
    "\n",
    "jax.config.update(\"jax_enable_x64\", True)\n",
    "jax.config.update(\"jax_platform_name\", \"cpu\")\n",
    "import numpy as np\n",
    "import scipy.stats\n",
    "from jax import numpy as jnp\n",
    "from matplotlib.figure import Figure\n",
    "from tqdm.notebook import trange\n",
    "\n",
    "%matplotlib inline"
   ]
  },
  {
   "cell_type": "code",
   "execution_count": 2,
   "id": "f70ae4ce-1392-4203-92de-445cd30c1c02",
   "metadata": {},
   "outputs": [],
   "source": [
    "import os\n",
    "import sys\n",
    "\n",
    "lib_path = os.path.join(os.path.curdir, \"src\")\n",
    "sys.path.insert(0, lib_path)"
   ]
  },
  {
   "cell_type": "code",
   "execution_count": 3,
   "id": "1207ad8a-f6cc-49b4-825a-e18c85fccf94",
   "metadata": {},
   "outputs": [],
   "source": [
    "import importlib"
   ]
  },
  {
   "cell_type": "code",
   "execution_count": 5,
   "id": "3708e159-d7f3-4019-a424-b3d4d88d11eb",
   "metadata": {},
   "outputs": [],
   "source": [
    "import activation\n",
    "import network\n",
    "import normal\n",
    "import random_matrix\n",
    "import unscented\n",
    "\n",
    "importlib.reload(normal)\n",
    "importlib.reload(unscented)\n",
    "\n",
    "importlib.reload(random_matrix)\n",
    "importlib.reload(network)\n",
    "\n",
    "from network import Layer, Network\n",
    "from normal import Normal\n",
    "from random_matrix import RandomGaussian, RandomOrthogonalProjection, ZeroMatrix"
   ]
  },
  {
   "cell_type": "code",
   "execution_count": 6,
   "id": "c8338fbf-dcec-4450-b430-a8a74d4f44c7",
   "metadata": {},
   "outputs": [],
   "source": [
    "key = jax.random.PRNGKey(123)"
   ]
  },
  {
   "cell_type": "code",
   "execution_count": 16,
   "id": "40c0d262-8f28-4da0-be20-a08b2c373edc",
   "metadata": {},
   "outputs": [],
   "source": [
    "σ = activation.Sinusoid()"
   ]
  },
  {
   "cell_type": "markdown",
   "id": "335e8704-752e-48f0-ac69-3ebb91d576ec",
   "metadata": {},
   "source": [
    "# single layer"
   ]
  },
  {
   "cell_type": "code",
   "execution_count": 17,
   "id": "f3e08f3c-a194-4ae9-9089-ca8798586f93",
   "metadata": {},
   "outputs": [
    {
     "data": {
      "text/plain": [
       "Array(0., dtype=float64, weak_type=True)"
      ]
     },
     "execution_count": 17,
     "metadata": {},
     "output_type": "execute_result"
    }
   ],
   "source": [
    "σ.L(1., 1., 2., 2., 0.)"
   ]
  },
  {
   "cell_type": "code",
   "execution_count": 18,
   "id": "9d7513a1-d12d-4617-9121-3874d7c7a5d9",
   "metadata": {},
   "outputs": [],
   "source": [
    "f = Layer(\n",
    "    2,\n",
    "    1,\n",
    "    key=key,\n",
    "    activation=σ,\n",
    "    A=RandomOrthogonalProjection(1.0),\n",
    "    b=RandomOrthogonalProjection(0.0),\n",
    "    C=RandomOrthogonalProjection(1.0),\n",
    "    d=RandomOrthogonalProjection(0.0),\n",
    ")\n",
    "network = Network(f)"
   ]
  },
  {
   "cell_type": "code",
   "execution_count": 19,
   "id": "0a376b76-2d8f-4127-a00e-c4409928b127",
   "metadata": {},
   "outputs": [],
   "source": [
    "# f._propagate_cov(\\m)"
   ]
  },
  {
   "cell_type": "code",
   "execution_count": 20,
   "id": "a6f64516-e39d-494b-9393-d4b1090927b1",
   "metadata": {},
   "outputs": [],
   "source": [
    "dist = Normal(μ=jnp.ones(f.in_size), Σ=1 * jnp.eye(f.in_size))"
   ]
  },
  {
   "cell_type": "code",
   "execution_count": 21,
   "id": "c031096e-3f1c-4c91-8ae4-285bf2dd3ebd",
   "metadata": {},
   "outputs": [],
   "source": [
    "analytic_output = f(dist, method=\"analytic\")\n",
    "linear_output = f(dist, method=\"linear\")\n",
    "unscented_output = f(dist, method=\"unscented\")\n",
    "mc_output = f._mc_mean_cov(dist, key, 10_000_000)"
   ]
  },
  {
   "cell_type": "code",
   "execution_count": 22,
   "id": "084d896c-1805-4596-9fd5-4d263ce5407f",
   "metadata": {},
   "outputs": [
    {
     "name": "stdout",
     "output_type": "stream",
     "text": [
      "linear mean [0.31762117]\n",
      "unscented mean [0.0250322]\n",
      "analytic mean [0.08760158]\n",
      "monte carlo mean [0.0876176]\n"
     ]
    }
   ],
   "source": [
    "print(\"linear mean\", linear_output.μ)\n",
    "print(\"unscented mean\", unscented_output.μ)\n",
    "print(\"analytic mean\", analytic_output.μ)\n",
    "print(\"monte carlo mean\", mc_output.μ)"
   ]
  },
  {
   "cell_type": "code",
   "execution_count": 23,
   "id": "18049b70-d31b-449c-bc22-d60ea9d4844d",
   "metadata": {},
   "outputs": [
    {
     "name": "stdout",
     "output_type": "stream",
     "text": [
      "linear covariance [[0.09324568]]\n",
      "unscented covariance [[0.26455563]]\n",
      "analytic covariance [[0.4036371]]\n",
      "monte carlo covariance [[0.40420067]]\n"
     ]
    }
   ],
   "source": [
    "print(\"linear covariance\", linear_output.Σ)\n",
    "print(\"unscented covariance\", unscented_output.Σ)\n",
    "print(\"analytic covariance\", analytic_output.Σ)\n",
    "print(\"monte carlo covariance\", mc_output.Σ)"
   ]
  },
  {
   "cell_type": "code",
   "execution_count": 24,
   "id": "527a4147-d2ff-4191-bac1-b06e4644efa2",
   "metadata": {},
   "outputs": [
    {
     "name": "stdout",
     "output_type": "stream",
     "text": [
      "linear KL 0.4141224649626808\n",
      "unscented KL 0.044033021858611354\n",
      "analytic KL 4.867850178502664e-07\n"
     ]
    }
   ],
   "source": [
    "print(\"linear KL\", mc_output.kl_divergence(linear_output))\n",
    "print(\"unscented KL\", mc_output.kl_divergence(unscented_output))\n",
    "print(\"analytic KL\", mc_output.kl_divergence(analytic_output))"
   ]
  },
  {
   "cell_type": "markdown",
   "id": "ccd739dc-bb4a-4451-aa57-43455f96f3c1",
   "metadata": {},
   "source": [
    "# Small-variance test"
   ]
  },
  {
   "cell_type": "code",
   "execution_count": null,
   "id": "7aa7259c-031c-498b-941c-7183f3f1f91d",
   "metadata": {},
   "outputs": [],
   "source": [
    "key, key1, key2, key3, key4 = jax.random.split(jax.random.PRNGKey(12), 5)\n",
    "input_size = 1\n",
    "output_size = 1\n",
    "hidden_size = 10\n",
    "network = Network(\n",
    "    Layer(\n",
    "        input_size,\n",
    "        output_size,\n",
    "        key=key1,\n",
    "        activation=σ,\n",
    "        A=RandomOrthogonalProjection(),\n",
    "        b=RandomOrthogonalProjection(),\n",
    "        C=ZeroMatrix(),\n",
    "        d=ZeroMatrix(),\n",
    "    ),\n",
    ")\n",
    "dist = Normal(μ=jnp.zeros(input_size), Σ=jnp.eye(input_size))"
   ]
  },
  {
   "cell_type": "code",
   "execution_count": null,
   "id": "a9dce73b-5d23-4d63-9722-2b5516e861a7",
   "metadata": {},
   "outputs": [],
   "source": [
    "mc_output = network[0]._mc_mean_cov(dist, key=jax.random.PRNGKey(1), rep=1_000_000)\n",
    "mc_output.μ, mc_output.Σ"
   ]
  },
  {
   "cell_type": "code",
   "execution_count": null,
   "id": "904bd61a-7052-4d02-b39a-9b67e8b16c58",
   "metadata": {},
   "outputs": [],
   "source": [
    "analytic_output = network(dist, method=\"analytic\")\n",
    "analytic_output.μ, analytic_output.Σ"
   ]
  },
  {
   "cell_type": "code",
   "execution_count": null,
   "id": "94539b29-90a0-4126-bc57-6bd6e95c6d8d",
   "metadata": {},
   "outputs": [],
   "source": [
    "linear_output = network(dist, method=\"linear\")\n",
    "linear_output.μ, linear_output.Σ"
   ]
  },
  {
   "cell_type": "code",
   "execution_count": null,
   "id": "a388082e-f7de-4434-80eb-0d5b3a63acb1",
   "metadata": {},
   "outputs": [],
   "source": [
    "unscented_output = network(dist, method=\"unscented\")\n",
    "unscented_output.μ, unscented_output.Σ"
   ]
  },
  {
   "cell_type": "markdown",
   "id": "78ac187b-8540-4cfb-8069-8b3a2e2529a3",
   "metadata": {},
   "source": [
    "# Deep MLP"
   ]
  },
  {
   "cell_type": "code",
   "execution_count": null,
   "id": "f98f6c01-8cd6-48b7-9265-e69449b7999f",
   "metadata": {},
   "outputs": [],
   "source": [
    "key, key1, key2, key3, key4 = jax.random.split(jax.random.PRNGKey(12), 5)\n",
    "input_size = 2\n",
    "output_size = 1\n",
    "hidden_size = 70\n",
    "network = Network(\n",
    "    Layer(\n",
    "        input_size,\n",
    "        hidden_size,\n",
    "        key=key1,\n",
    "        activation=σ,\n",
    "        A=RandomGaussian(1.0),\n",
    "        b=RandomGaussian(1.0),\n",
    "        C=RandomGaussian(1.0),\n",
    "        d=RandomGaussian(),\n",
    "    ),\n",
    "    Layer(\n",
    "        hidden_size,\n",
    "        hidden_size,\n",
    "        key=key2,\n",
    "        activation=σ,\n",
    "        A=RandomGaussian(1.0),\n",
    "        b=RandomGaussian(1.0),\n",
    "        C=RandomGaussian(1.0),\n",
    "        d=ZeroMatrix(),\n",
    "    ),\n",
    "    Layer(\n",
    "        hidden_size,\n",
    "        hidden_size,\n",
    "        key=key3,\n",
    "        activation=σ,\n",
    "        A=RandomGaussian(1.0),\n",
    "        b=RandomGaussian(1.0),\n",
    "        C=RandomGaussian(1.0),\n",
    "        d=ZeroMatrix(),\n",
    "    ),\n",
    "    Layer(\n",
    "        hidden_size,\n",
    "        output_size,\n",
    "        key=key4,\n",
    "        activation=σ,\n",
    "        A=RandomGaussian(1.0),\n",
    "        b=RandomGaussian(1.0),\n",
    "        C=RandomGaussian(1.0),\n",
    "        d=ZeroMatrix(),\n",
    "    ),\n",
    ")"
   ]
  },
  {
   "cell_type": "code",
   "execution_count": null,
   "id": "74e3927a-92ca-46f8-8174-c0810b7412e0",
   "metadata": {},
   "outputs": [],
   "source": [
    "μ = jnp.zeros(input_size)\n",
    "Σ = jnp.eye(input_size)"
   ]
  },
  {
   "cell_type": "code",
   "execution_count": null,
   "id": "430fbd8a-ade0-4744-952b-906279d95411",
   "metadata": {},
   "outputs": [],
   "source": [
    "num_samples = 2**10"
   ]
  },
  {
   "cell_type": "code",
   "execution_count": null,
   "id": "9789b828-9da8-4fcc-8c0d-608081e152ef",
   "metadata": {},
   "outputs": [],
   "source": [
    "def plot_mc(ax, μ, Σ):\n",
    "    dist = Normal(μ, Σ)\n",
    "    unscented_output = network(dist, method=\"unscented\")\n",
    "    linear_output = network(dist, method=\"linear\")\n",
    "    analytic_output = network(dist, method=\"analytic\", mean_field=False)\n",
    "    analytic_mean_field_output = network(dist, method=\"analytic\", mean_field=True)\n",
    "\n",
    "    input_samples = dist.qmc(num_samples=num_samples)\n",
    "    output_samples = jax.vmap(network)(input_samples)\n",
    "\n",
    "    pseudo = Normal(\n",
    "        jnp.mean(output_samples).reshape(1, -1), jnp.var(output_samples).reshape(1, 1)\n",
    "    )\n",
    "\n",
    "    y_mesh = np.linspace(np.min(output_samples), np.max(output_samples), 2000)\n",
    "\n",
    "    ax.plot(\n",
    "        y_mesh,\n",
    "        scipy.stats.gaussian_kde(output_samples.reshape(-1))(y_mesh),\n",
    "        label=\"empirical KDE\",\n",
    "    )\n",
    "    ax.plot(\n",
    "        y_mesh,\n",
    "        jax.vmap(pseudo.pdf)(y_mesh),\n",
    "        label=\"pseudo-true Gaussian fit\",\n",
    "    )\n",
    "\n",
    "    ax.plot(\n",
    "        y_mesh,\n",
    "        jax.vmap(unscented_output.pdf)(y_mesh),\n",
    "        label=\"unscented approximation\",\n",
    "    )\n",
    "\n",
    "    ax.plot(\n",
    "        y_mesh,\n",
    "        jax.vmap(linear_output.pdf)(y_mesh),\n",
    "        label=\"linear approximation\",\n",
    "        linestyle=\"--\",\n",
    "    )\n",
    "\n",
    "    ax.plot(\n",
    "        y_mesh,\n",
    "        jax.vmap(analytic_output.pdf)(y_mesh),\n",
    "        label=\"analytic approximation\",\n",
    "        linestyle=\"--\",\n",
    "    )\n",
    "\n",
    "    ax.plot(\n",
    "        y_mesh,\n",
    "        jax.vmap(analytic_mean_field_output.pdf)(y_mesh),\n",
    "        label=\"mean-field analytic approximation\",\n",
    "        linestyle=\"--\",\n",
    "    )\n",
    "    ax.legend()"
   ]
  },
  {
   "cell_type": "code",
   "execution_count": null,
   "id": "0d6d6797-0502-43c1-a562-732c7f72dc34",
   "metadata": {},
   "outputs": [],
   "source": [
    "fig = Figure(figsize=(12, 8), dpi=600, constrained_layout=1)\n",
    "ax = fig.add_subplot(221)\n",
    "ax.set_title(\"Covariance scale 1e-5\")\n",
    "plot_mc(ax, μ, Σ * 1e-5)\n",
    "ax = fig.add_subplot(222)\n",
    "ax.set_title(\"Covariance scale 1e-2\")\n",
    "plot_mc(ax, μ, Σ * 1e-2)\n",
    "ax = fig.add_subplot(223)\n",
    "ax.set_title(\"Covariance scale 1e1\")\n",
    "plot_mc(ax, μ, Σ * 1e1)\n",
    "ax = fig.add_subplot(224)\n",
    "ax.set_title(\"Covariance scale 1e4\")\n",
    "plot_mc(ax, μ, Σ * 1e4)\n",
    "\n",
    "# fig.savefig('figures/example-uq-Phi.pdf')\n",
    "fig"
   ]
  },
  {
   "cell_type": "code",
   "execution_count": null,
   "id": "1e36c7fc-63f2-4c8b-a2cb-c0561e9322fe",
   "metadata": {},
   "outputs": [],
   "source": []
  }
 ],
 "metadata": {
  "kernelspec": {
   "display_name": "Python 3 (ipykernel)",
   "language": "python",
   "name": "python3"
  },
  "language_info": {
   "codemirror_mode": {
    "name": "ipython",
    "version": 3
   },
   "file_extension": ".py",
   "mimetype": "text/x-python",
   "name": "python",
   "nbconvert_exporter": "python",
   "pygments_lexer": "ipython3",
   "version": "3.13.3"
  }
 },
 "nbformat": 4,
 "nbformat_minor": 5
}
