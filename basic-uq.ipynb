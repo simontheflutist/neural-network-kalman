{
 "cells": [
  {
   "cell_type": "code",
   "execution_count": 1,
   "id": "25d3b8d1-b40b-49c2-a214-dac7deba3a2c",
   "metadata": {},
   "outputs": [],
   "source": [
    "import jax\n",
    "\n",
    "jax.config.update(\"jax_enable_x64\", True)\n",
    "jax.config.update(\"jax_platform_name\", \"cpu\")\n",
    "import numpy as np\n",
    "import scipy.stats\n",
    "from jax import numpy as jnp\n",
    "from matplotlib.figure import Figure\n",
    "from tqdm.notebook import trange\n",
    "\n",
    "%matplotlib inline"
   ]
  },
  {
   "cell_type": "code",
   "execution_count": 2,
   "id": "f70ae4ce-1392-4203-92de-445cd30c1c02",
   "metadata": {},
   "outputs": [],
   "source": [
    "import os\n",
    "import sys\n",
    "\n",
    "lib_path = os.path.join(os.path.curdir, \"src\")\n",
    "sys.path.insert(0, lib_path)"
   ]
  },
  {
   "cell_type": "code",
   "execution_count": 3,
   "id": "3708e159-d7f3-4019-a424-b3d4d88d11eb",
   "metadata": {},
   "outputs": [],
   "source": [
    "import importlib\n",
    "\n",
    "import probit_network\n",
    "import random_matrix\n",
    "import unscented\n",
    "\n",
    "importlib.reload(unscented)\n",
    "importlib.reload(random_matrix)\n",
    "importlib.reload(probit_network)\n",
    "from probit_network import ProbitLinear, ProbitLinearNetwork\n",
    "from random_matrix import RandomGaussian, RandomOrthogonalProjection, ZeroMatrix"
   ]
  },
  {
   "cell_type": "code",
   "execution_count": 4,
   "id": "c8338fbf-dcec-4450-b430-a8a74d4f44c7",
   "metadata": {},
   "outputs": [],
   "source": [
    "key = jax.random.PRNGKey(123)"
   ]
  },
  {
   "cell_type": "markdown",
   "id": "335e8704-752e-48f0-ac69-3ebb91d576ec",
   "metadata": {},
   "source": [
    "# single layer"
   ]
  },
  {
   "cell_type": "code",
   "execution_count": 5,
   "id": "9d7513a1-d12d-4617-9121-3874d7c7a5d9",
   "metadata": {},
   "outputs": [],
   "source": [
    "f = ProbitLinear(\n",
    "    3,\n",
    "    1,\n",
    "    key,\n",
    "    A=RandomOrthogonalProjection(4.0),\n",
    "    b=RandomOrthogonalProjection(0.0),\n",
    "    C=RandomOrthogonalProjection(1.0),\n",
    "    d=RandomOrthogonalProjection(1.0),\n",
    ")\n",
    "network = ProbitLinearNetwork(f)"
   ]
  },
  {
   "cell_type": "code",
   "execution_count": 6,
   "id": "31ff5648-bdac-4d32-98e4-7cee9a9a9a5a",
   "metadata": {},
   "outputs": [],
   "source": [
    "x = 1 + jnp.zeros(f.in_size)\n",
    "Σ = jnp.eye(x.shape[0]) * 1"
   ]
  },
  {
   "cell_type": "code",
   "execution_count": 7,
   "id": "fe4df19f-d23c-42bc-9389-7b8cb25b99fd",
   "metadata": {},
   "outputs": [
    {
     "data": {
      "text/plain": [
       "(Array([0.35777946], dtype=float64), Array(1.82030324, dtype=float64))"
      ]
     },
     "execution_count": 7,
     "metadata": {},
     "output_type": "execute_result"
    }
   ],
   "source": [
    "mean, cov = f._mc_mean_cov(x, Σ, key, 1_000_000)\n",
    "mean, cov"
   ]
  },
  {
   "cell_type": "code",
   "execution_count": 8,
   "id": "084d896c-1805-4596-9fd5-4d263ce5407f",
   "metadata": {},
   "outputs": [
    {
     "name": "stdout",
     "output_type": "stream",
     "text": [
      "ekf mean [0.9472811]\n",
      "analytic mean [0.35838089]\n",
      "monte carlo mean [0.35777946]\n"
     ]
    }
   ],
   "source": [
    "print(\"ekf mean\", f._propagate_mean_lin(x, Σ))\n",
    "print(\"analytic mean\", f._propagate_mean(x, Σ))\n",
    "print(\"monte carlo mean\", mean)"
   ]
  },
  {
   "cell_type": "code",
   "execution_count": 9,
   "id": "0fea43d7-a7df-41a6-9e4e-b9fe74b639a3",
   "metadata": {},
   "outputs": [
    {
     "data": {
      "text/plain": [
       "array([1.82104003])"
      ]
     },
     "execution_count": 9,
     "metadata": {},
     "output_type": "execute_result"
    }
   ],
   "source": [
    "np.linalg.eigvalsh(f._propagate_cov(x, Σ))"
   ]
  },
  {
   "cell_type": "code",
   "execution_count": 10,
   "id": "18049b70-d31b-449c-bc22-d60ea9d4844d",
   "metadata": {},
   "outputs": [
    {
     "name": "stdout",
     "output_type": "stream",
     "text": [
      "ekf cov [[1.89707227]]\n",
      "analytic cov [[1.82104003]]\n",
      "monte carlo covariance 1.8203032447590575\n"
     ]
    }
   ],
   "source": [
    "print(\"ekf cov\", f._propagate_cov_lin(x, Σ))\n",
    "print(\"analytic cov\", f._propagate_cov(x, Σ))\n",
    "print(\"monte carlo covariance\", cov)"
   ]
  },
  {
   "cell_type": "markdown",
   "id": "ccd739dc-bb4a-4451-aa57-43455f96f3c1",
   "metadata": {},
   "source": [
    "# Small-variance test"
   ]
  },
  {
   "cell_type": "code",
   "execution_count": null,
   "id": "7aa7259c-031c-498b-941c-7183f3f1f91d",
   "metadata": {},
   "outputs": [],
   "source": [
    "key, key1, key2, key3, key4 = jax.random.split(jax.random.PRNGKey(12), 5)\n",
    "input_size = 1\n",
    "output_size = 2\n",
    "hidden_size = 5\n",
    "network = ProbitLinearNetwork(\n",
    "    ProbitLinear(\n",
    "        input_size,\n",
    "        output_size,\n",
    "        key1,\n",
    "        A=RandomOrthogonalProjection(),\n",
    "        b=RandomOrthogonalProjection(),\n",
    "        C=ZeroMatrix(),\n",
    "        d=ZeroMatrix()\n",
    "    ),\n",
    ")\n",
    "μ = jnp.zeros(input_size)\n",
    "Σ = jnp.eye(input_size) * 1e-3"
   ]
  },
  {
   "cell_type": "code",
   "execution_count": null,
   "id": "a9dce73b-5d23-4d63-9722-2b5516e861a7",
   "metadata": {},
   "outputs": [],
   "source": [
    "mean, cov = network[0]._mc_mean_cov(μ, Σ * 1e-3, key=jax.random.PRNGKey(1), rep=1_000_000)\n",
    "mean, jnp.linalg.eigvalsh(cov)"
   ]
  },
  {
   "cell_type": "code",
   "execution_count": null,
   "id": "904bd61a-7052-4d02-b39a-9b67e8b16c58",
   "metadata": {},
   "outputs": [],
   "source": [
    "mean, cov = network.propagate_mean_cov(μ, Σ * 1e-3, method=\"analytic\")\n",
    "mean, jnp.linalg.eigvalsh(cov)"
   ]
  },
  {
   "cell_type": "code",
   "execution_count": null,
   "id": "94539b29-90a0-4126-bc57-6bd6e95c6d8d",
   "metadata": {},
   "outputs": [],
   "source": [
    "mean, cov = network.propagate_mean_cov(μ, Σ * 1e-3, method=\"linear\")\n",
    "mean, jnp.linalg.eigvalsh(cov)"
   ]
  },
  {
   "cell_type": "code",
   "execution_count": null,
   "id": "a388082e-f7de-4434-80eb-0d5b3a63acb1",
   "metadata": {},
   "outputs": [],
   "source": [
    "mean, cov = network.propagate_mean_cov(μ, Σ * 1e-3, method=\"unscented\")\n",
    "mean, jnp.linalg.eigvalsh(cov)"
   ]
  },
  {
   "cell_type": "markdown",
   "id": "78ac187b-8540-4cfb-8069-8b3a2e2529a3",
   "metadata": {},
   "source": [
    "# Deep MLP"
   ]
  },
  {
   "cell_type": "code",
   "execution_count": null,
   "id": "f98f6c01-8cd6-48b7-9265-e69449b7999f",
   "metadata": {},
   "outputs": [],
   "source": [
    "key, key1, key2, key3, key4 = jax.random.split(jax.random.PRNGKey(12), 5)\n",
    "input_size = 2\n",
    "output_size = 1\n",
    "hidden_size = 70\n",
    "layers = [\n",
    "    ProbitLinear(\n",
    "        input_size,\n",
    "        hidden_size,\n",
    "        key1,\n",
    "        A=RandomOrthogonalProjection(4.0),\n",
    "        b=RandomOrthogonalProjection(1.0),\n",
    "        C=RandomOrthogonalProjection(1.0),\n",
    "        d=ZeroMatrix(),\n",
    "    ),\n",
    "    ProbitLinear(\n",
    "        hidden_size,\n",
    "        hidden_size,\n",
    "        key2,\n",
    "        A=RandomOrthogonalProjection(4.0),\n",
    "        b=RandomOrthogonalProjection(1.0),\n",
    "        C=RandomOrthogonalProjection(1.0),\n",
    "        d=ZeroMatrix(),\n",
    "    ),\n",
    "    ProbitLinear(\n",
    "        hidden_size,\n",
    "        hidden_size,\n",
    "        key3,\n",
    "        A=RandomOrthogonalProjection(4.0),\n",
    "        b=RandomOrthogonalProjection(1.0),\n",
    "        C=RandomOrthogonalProjection(1.0),\n",
    "        d=ZeroMatrix(),\n",
    "    ),\n",
    "    ProbitLinear(\n",
    "        hidden_size,\n",
    "        output_size,\n",
    "        key4,\n",
    "        A=RandomOrthogonalProjection(4.0),\n",
    "        b=RandomOrthogonalProjection(1.0),\n",
    "        C=RandomOrthogonalProjection(1.0),\n",
    "        d=ZeroMatrix(),\n",
    "    ),\n",
    "]"
   ]
  },
  {
   "cell_type": "code",
   "execution_count": null,
   "id": "74e3927a-92ca-46f8-8174-c0810b7412e0",
   "metadata": {},
   "outputs": [],
   "source": [
    "μ = jnp.zeros(input_size)\n",
    "Σ = jnp.eye(input_size)"
   ]
  },
  {
   "cell_type": "code",
   "execution_count": null,
   "id": "b278f839-c7d7-47bd-b737-ff6266bef6a4",
   "metadata": {},
   "outputs": [],
   "source": [
    "network = ProbitLinearNetwork(*layers)"
   ]
  },
  {
   "cell_type": "code",
   "execution_count": null,
   "id": "9789b828-9da8-4fcc-8c0d-608081e152ef",
   "metadata": {},
   "outputs": [],
   "source": [
    "def plot_mc(ax, μ, Σ):\n",
    "    μ_unscented, Σ_unscented = network.propagate_mean_cov(μ, Σ, method=\"unscented\")\n",
    "    μ_lin, Σ_lin = network.propagate_mean_cov(μ, Σ, method=\"linear\")\n",
    "    μ_adf, Σ_adf = network.propagate_mean_cov(μ, Σ, method=\"analytic\")\n",
    "\n",
    "    input_samples = scipy.stats.qmc.MultivariateNormalQMC(mean=μ, cov=Σ, rng=42).random(2**20)\n",
    "    output_samples = jax.vmap(network)(input_samples)\n",
    "    y_mesh = np.linspace(np.min(output_samples), np.max(output_samples), 2000)\n",
    "\n",
    "    ax.plot(\n",
    "        y_mesh,\n",
    "        scipy.stats.gaussian_kde(output_samples.reshape(-1))(y_mesh),\n",
    "        label=\"empirical KDE\",\n",
    "    )\n",
    "    ax.plot(\n",
    "        y_mesh,\n",
    "        scipy.stats.norm.pdf(\n",
    "            y_mesh, loc=output_samples.mean(), scale=output_samples.std()\n",
    "        ),\n",
    "        label=\"pseudo-true Gaussian fit\",\n",
    "    )\n",
    "\n",
    "    ax.plot(\n",
    "        y_mesh,\n",
    "        scipy.stats.norm.pdf(\n",
    "            y_mesh, loc=μ_unscented.reshape(-1), scale=Σ_unscented.reshape(-1) ** 0.5\n",
    "        ),\n",
    "        label=\"unscented approximation\",\n",
    "    )\n",
    "\n",
    "    ax.plot(\n",
    "        y_mesh,\n",
    "        scipy.stats.norm.pdf(\n",
    "            y_mesh, loc=μ_lin.reshape(-1), scale=Σ_lin.reshape(-1) ** 0.5\n",
    "        ),\n",
    "        label=\"linear approximation\",\n",
    "        linestyle=\"--\",\n",
    "    )\n",
    "\n",
    "    ax.plot(\n",
    "        y_mesh,\n",
    "        scipy.stats.norm.pdf(\n",
    "            y_mesh, loc=μ_adf.reshape(-1), scale=Σ_adf.reshape(-1) ** 0.5\n",
    "        ),\n",
    "        label=\"my approximation\",\n",
    "        linestyle=\"--\",\n",
    "    )\n",
    "    ax.legend()"
   ]
  },
  {
   "cell_type": "markdown",
   "id": "1643cdc6-a251-4d11-9605-0c232b892450",
   "metadata": {},
   "source": [
    "Note that numerical instability in the low-covariance case leads to overdispersion."
   ]
  },
  {
   "cell_type": "code",
   "execution_count": null,
   "id": "0d6d6797-0502-43c1-a562-732c7f72dc34",
   "metadata": {},
   "outputs": [],
   "source": [
    "fig = Figure(figsize=(12, 8), dpi=600, constrained_layout=1)\n",
    "ax = fig.add_subplot(221)\n",
    "ax.set_title(\"Covariance scale 0.001\")\n",
    "plot_mc(ax, μ, Σ * 1e-5)\n",
    "ax = fig.add_subplot(222)\n",
    "ax.set_title(\"Covariance scale 0.1\")\n",
    "plot_mc(ax, μ, Σ * 1e-1)\n",
    "ax = fig.add_subplot(223)\n",
    "ax.set_title(\"Covariance scale 10\")\n",
    "plot_mc(ax, μ, Σ * 1e1)\n",
    "ax = fig.add_subplot(224)\n",
    "ax.set_title(\"Covariance scale 1000\")\n",
    "plot_mc(ax, μ, Σ * 1e3)\n",
    "\n",
    "fig"
   ]
  },
  {
   "cell_type": "code",
   "execution_count": null,
   "id": "2b30ad6f-0aa1-4f85-9f37-7ef8e3aa77cf",
   "metadata": {},
   "outputs": [],
   "source": []
  }
 ],
 "metadata": {
  "kernelspec": {
   "display_name": "Python 3 (ipykernel)",
   "language": "python",
   "name": "python3"
  },
  "language_info": {
   "codemirror_mode": {
    "name": "ipython",
    "version": 3
   },
   "file_extension": ".py",
   "mimetype": "text/x-python",
   "name": "python",
   "nbconvert_exporter": "python",
   "pygments_lexer": "ipython3",
   "version": "3.13.3"
  }
 },
 "nbformat": 4,
 "nbformat_minor": 5
}
